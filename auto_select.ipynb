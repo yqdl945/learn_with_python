{
 "cells": [
  {
   "cell_type": "code",
   "execution_count": 171,
   "metadata": {},
   "outputs": [
    {
     "name": "stdout",
     "output_type": "stream",
     "text": [
      "    Unnamed: 11          Unnamed: 7 Unnamed: 9 Unnamed: 10 Unnamed: 12\n",
      "12          NaN                 NaN        NaN         NaN         NaN\n",
      "13          NaN                光企副挡          套         NaN         NaN\n",
      "14          NaN                勾企副挡          套         NaN         NaN\n",
      "15          NaN                勾企封盖          套         NaN         NaN\n",
      "16          NaN                 NaN        NaN         NaN         NaN\n",
      "17          NaN                 NaN        NaN         NaN         NaN\n",
      "18          NaN                 NaN        NaN         NaN         NaN\n",
      "19          NaN                玻璃名称         宽度          高度          数量\n",
      "20          NaN  6LOW-E(高透）+12A+6钢固        983         938           8\n",
      "21          NaN  6LOW-E(高透）+12A+6钢扇        963         804          16\n",
      "22          NaN                 NaN        NaN         NaN         NaN\n",
      "23          NaN                 NaN        NaN         NaN         NaN\n"
     ]
    }
   ],
   "source": [
    "import pandas as pd\n",
    "df = pd.read_excel(\n",
    "    r'C:\\Users\\Administrator\\Desktop\\新建文件夹 (2)\\splited\\生产作业表-元和小学（普教楼）_12.xlsx')\n",
    "# print(df.shape)\n",
    "info = df.iloc[12:24,[11,7,9,10,12]]\n",
    "print(info)"
   ]
  },
  {
   "cell_type": "code",
   "execution_count": 142,
   "metadata": {
    "scrolled": true
   },
   "outputs": [],
   "source": [
    "info.to_excel(r'C:\\Users\\Administrator\\Desktop\\新建文件夹 (2)\\new12.xlsx')\n",
    "#不可以使用sheet_name否则会报错：TypeError:TypeError: object of type 'int' has no len()"
   ]
  },
  {
   "cell_type": "code",
   "execution_count": 104,
   "metadata": {},
   "outputs": [
    {
     "name": "stdout",
     "output_type": "stream",
     "text": [
      "[2, 3, 4, 5, 6, 7, 8, 9]\n"
     ]
    }
   ],
   "source": []
  },
  {
   "cell_type": "code",
   "execution_count": 163,
   "metadata": {},
   "outputs": [],
   "source": [
    "data_test = pd.read_excel(r'C:\\Users\\Administrator\\Desktop\\新建文件夹 (2)\\生产作业表-元和小学（普教楼）.xlsx'\n",
    "                         ,header = None\n",
    "                         ,sheet_name = 2)\n",
    "#data_test.shape\n",
    "#data_test\n",
    "index_drop = list(range(25,47,1))\n",
    "data_test = data_test.drop(index = index_drop,columns = [8,11,13])\n",
    "data_test\n",
    "\n",
    "# 使用循环进行批处理！\n",
    "#项目死了\n",
    "# data_glass = pd.read_excel(r'C:\\Users\\Administrator\\Desktop\\新建文件夹 (2)\\glass.xlsx')\n",
    "# def sheet_name(x):\n",
    "#     for i in x:\n",
    "#         data_test = pd.read_excel(r'C:\\Users\\Administrator\\Desktop\\新建文件夹 (2)\\生产作业表-元和小学（普教楼）.xlsx'\n",
    "#                          ,header = None\n",
    "#                          ,sheet_name = i)\n",
    "#         data_glass_info = data_test.iloc[12:24,[11,7,9,10,12]]\n",
    "#         data_glass = data_glass.append(data_glass_info)\n",
    "#     print(data_glass)\n",
    "\n",
    "# x = list(range(0,35,1))\n",
    "     \n",
    "        \n",
    "# data_test.shape\n",
    "# data_test\n",
    "# index_drop = list(range(25,47,1))\n",
    "# data_test = data_test.drop(index = index_drop,columns = [8,11,13])\n",
    "# data_test"
   ]
  },
  {
   "cell_type": "code",
   "execution_count": 14,
   "metadata": {},
   "outputs": [],
   "source": [
    "# 1提取玻璃信息\n",
    "import pandas as pd\n",
    "data_combined = pd.DataFrame()\n",
    "sheet_name = list(range(1,35,1))\n",
    "for i in sheet_name:\n",
    "    data_test = pd.read_excel(r'C:\\Users\\Administrator\\Desktop\\新建文件夹 (2)\\生产作业表-元和小学（普教楼）.xlsx'\n",
    "                     ,header = None\n",
    "                     ,sheet_name = i)\n",
    "    #print(data_test.iloc[19:27,[7,9,10,12]])\n",
    "    data_combined = data_combined.append(data_test.iloc[19:27,[7,9,10,12]])\n",
    "    #print(data_combined.shape)\n",
    "data_combined.to_excel(r'C:\\Users\\Administrator\\Desktop\\新建文件夹 (2)\\glass_info.xlsx')\n",
    "#     data_glass_info = data_test.iloc[12:24,[7,9,10,12]]\n",
    "#     data_glass_info = data_glass_info.append(data_glass_info)\n",
    "\n",
    "# print(data_test.shape)\n",
    "\n",
    "# 只能取2个sheet?"
   ]
  },
  {
   "cell_type": "markdown",
   "metadata": {},
   "source": [
    "## 使用Windows地址"
   ]
  },
  {
   "cell_type": "code",
   "execution_count": 1,
   "metadata": {},
   "outputs": [],
   "source": [
    "# 2提取洞口尺寸和樘数！\n",
    "import pandas as pd\n",
    "cave_num = pd.DataFrame()#洞口尺寸+樘数\n",
    "sheet_name = list(range(1,34,1))\n",
    "for i in sheet_name:\n",
    "    data = pd.read_excel(r'C:\\Users\\Administrator\\Desktop\\新建文件夹 (2)\\生产作业表-元和小学（普教楼）.xlsx'\n",
    "                        ,header = None\n",
    "                        ,sheet_name = i)\n",
    "    df = pd.DataFrame(data.iloc[3,[2,7]])\n",
    "    #cave_info = pd.concat([cave_info,df],axis = 1,ignore_index = True)# 横向排布！需要复制，转置！\n",
    "    #使用.T进行转置是否可以？——可以直接使用！呦西\n",
    "    cave_num = cave_num.append(df.T)\n",
    "cave_num.to_excel(r'C:\\Users\\Administrator\\Desktop\\新建文件夹 (2)\\cave_num.xlsx')"
   ]
  },
  {
   "cell_type": "code",
   "execution_count": 2,
   "metadata": {},
   "outputs": [],
   "source": [
    "# 3序列号+门窗代号\n",
    "xlh_mcdh = pd.DataFrame()#序列号+门窗代号\n",
    "for i in sheet_name:\n",
    "    data = pd.read_excel(r'C:\\Users\\Administrator\\Desktop\\新建文件夹 (2)\\生产作业表-元和小学（普教楼）.xlsx'\n",
    "                        ,header = None\n",
    "                        ,sheet_name = i)\n",
    "    df1 = pd.DataFrame(data.iloc[[1,2],10])\n",
    "    xlh_mcdh = xlh_mcdh.append(df1.T)\n",
    "xlh_mcdh.to_excel(r'C:\\Users\\Administrator\\Desktop\\新建文件夹 (2)\\xlh_mcdh.xlsx')"
   ]
  },
  {
   "cell_type": "code",
   "execution_count": 3,
   "metadata": {},
   "outputs": [],
   "source": [
    "# 4制作尺寸+型材类型\n",
    "made_info = pd.DataFrame()#制作尺寸+型材类型\n",
    "for i in sheet_name:\n",
    "    data = pd.read_excel(r'C:\\Users\\Administrator\\Desktop\\新建文件夹 (2)\\生产作业表-元和小学（普教楼）.xlsx'\n",
    "                        ,header = None\n",
    "                        ,sheet_name = i)\n",
    "    #df2 = pd.DataFrame(data.iloc[4,[2,10]])\n",
    "    #print(data.iloc[4,[2,10]])\n",
    "    made_info = made_info.append(data.iloc[4,[2,10]])\n",
    "made_info.to_excel(r'C:\\Users\\Administrator\\Desktop\\新建文件夹 (2)\\made_info.xlsx')"
   ]
  },
  {
   "cell_type": "markdown",
   "metadata": {},
   "source": [
    "## 下面三项使用的是Mac地址，到时候记得更改地址！"
   ]
  },
  {
   "cell_type": "code",
   "execution_count": 37,
   "metadata": {},
   "outputs": [],
   "source": [
    "# 2提取洞口尺寸和樘数！\n",
    "import pandas as pd\n",
    "cave_num = pd.DataFrame()#洞口尺寸+樘数\n",
    "sheet_name = list(range(1,34,1))\n",
    "for i in sheet_name:\n",
    "    data = pd.read_excel('/Users/yiliuhei/Documents/Python_test/生产作业表-元和小学（普教楼）.xlsx'\n",
    "                        ,header = None\n",
    "                        ,sheet_name = i)\n",
    "    df = pd.DataFrame(data.iloc[3,[2,7]])\n",
    "    #cave_info = pd.concat([cave_info,df],axis = 1,ignore_index = True)# 横向排布！需要复制，转置！\n",
    "    #使用.T进行转置是否可以？——可以直接使用！呦西\n",
    "    cave_num = cave_num.append(df.T)\n",
    "cave_num.to_excel('/Users/yiliuhei/Documents/Python_test/cave_num.xlsx')"
   ]
  },
  {
   "cell_type": "code",
   "execution_count": 36,
   "metadata": {},
   "outputs": [],
   "source": [
    "# 3序列号+门窗代号\n",
    "xlh_mcdh = pd.DataFrame()#序列号+门窗代号\n",
    "for i in sheet_name:\n",
    "    data = pd.read_excel('/Users/yiliuhei/Documents/Python_test/生产作业表-元和小学（普教楼）.xlsx'\n",
    "                        ,header = None\n",
    "                        ,sheet_name = i)\n",
    "    df1 = pd.DataFrame(data.iloc[[1,2],10])\n",
    "    xlh_mcdh = xlh_mcdh.append(df1.T)\n",
    "xlh_mcdh.to_excel('/Users/yiliuhei/Documents/Python_test/xlh_mcdh.xlsx')"
   ]
  },
  {
   "cell_type": "code",
   "execution_count": 44,
   "metadata": {},
   "outputs": [],
   "source": [
    "# 4制作尺寸+型材类型\n",
    "made_info = pd.DataFrame()#制作尺寸+型材类型\n",
    "for i in sheet_name:\n",
    "    data = pd.read_excel('/Users/yiliuhei/Documents/Python_test/生产作业表-元和小学（普教楼）.xlsx'\n",
    "                        ,header = None\n",
    "                        ,sheet_name = i)\n",
    "    #df2 = pd.DataFrame(data.iloc[4,[2,10]])\n",
    "    #print(data.iloc[4,[2,10]])\n",
    "    made_info = made_info.append(data.iloc[4,[2,10]])\n",
    "made_info.to_excel('/Users/yiliuhei/Documents/Python_test/made_info.xlsx')"
   ]
  },
  {
   "cell_type": "code",
   "execution_count": null,
   "metadata": {},
   "outputs": [],
   "source": []
  }
 ],
 "metadata": {
  "kernelspec": {
   "display_name": "Python 3",
   "language": "python",
   "name": "python3"
  },
  "language_info": {
   "codemirror_mode": {
    "name": "ipython",
    "version": 3
   },
   "file_extension": ".py",
   "mimetype": "text/x-python",
   "name": "python",
   "nbconvert_exporter": "python",
   "pygments_lexer": "ipython3",
   "version": "3.8.5"
  }
 },
 "nbformat": 4,
 "nbformat_minor": 4
}
